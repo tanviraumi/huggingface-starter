{
 "cells": [
  {
   "cell_type": "code",
   "execution_count": null,
   "id": "15de530f-6bac-4255-9ca8-276d292148fe",
   "metadata": {},
   "outputs": [],
   "source": [
    "# Play a simple audio file\n",
    "import IPython.display as display\n",
    "path = \"/mnt/sda/audio/simple/M1F1-Alaw-AFsp.wav\"\n",
    "display.Audio(path, autoplay=True)\n",
    "\n",
    "# \"Seed is needed to plant the spring corn\""
   ]
  },
  {
   "cell_type": "code",
   "execution_count": null,
   "id": "1c18e647-9fad-400c-9208-8e4e7708bc8c",
   "metadata": {},
   "outputs": [],
   "source": [
    "# For managing audio file\n",
    "import librosa\n",
    "import torch\n",
    "from transformers import Wav2Vec2ForCTC, Wav2Vec2Tokenizer"
   ]
  },
  {
   "cell_type": "code",
   "execution_count": null,
   "id": "4fbb2055-b5c6-4d33-9cc2-0ab6602250f5",
   "metadata": {},
   "outputs": [],
   "source": [
    "# Loading the audio file\n",
    "audio, rate = librosa.load(path, sr = 16000)\n",
    "print(audio)\n",
    "print(rate)"
   ]
  },
  {
   "cell_type": "code",
   "execution_count": null,
   "id": "9348f4c4-6d23-4b99-9ca4-378dc205e6bf",
   "metadata": {},
   "outputs": [],
   "source": [
    "# Importing Wav2Vec pretrained model\n",
    "tokenizer = Wav2Vec2Tokenizer.from_pretrained(\"facebook/wav2vec2-base-960h\")\n",
    "model = Wav2Vec2ForCTC.from_pretrained(\"facebook/wav2vec2-base-960h\")"
   ]
  },
  {
   "cell_type": "code",
   "execution_count": null,
   "id": "14e80b5c-320d-4f3c-ab89-5e1610e4b730",
   "metadata": {},
   "outputs": [],
   "source": [
    "# Taking an input value\n",
    "input_values = tokenizer(audio, return_tensors = \"pt\").input_values\n",
    "# Getting the logit values (non-normalized values)\n",
    "logits = model(input_values).logits\n",
    "# Passing the logit values to softmax to get the predicted values\n",
    "prediction = torch.argmax(logits, dim = -1)\n",
    "# The final step is to pass the prediction to the tokenizer decode to get the transcription\n",
    "transcription = tokenizer.batch_decode(prediction)[0]\n",
    "print(transcription)\n",
    "# The output is \"OUR FEVRIN HAG IS AN YOU WILL LAB OFF FRING CORN\" which is not even close to \"Seed is needed to plant the spring corn\".\n",
    "# Lets try something better."
   ]
  },
  {
   "cell_type": "code",
   "execution_count": null,
   "id": "aa497c94-ef47-46d2-86bb-0ba921d11bbd",
   "metadata": {},
   "outputs": [],
   "source": [
    "from datasets import load_dataset\n",
    "from transformers import pipeline\n",
    "\n",
    "# replace following lines to load an audio file of your choice\n",
    "ds = load_dataset(\"patrickvonplaten/librispeech_asr_dummy\", \"clean\", split=\"validation\")\n",
    "audio_file = ds[0][\"file\"]\n",
    "\n",
    "print(audio_file)\n",
    "display.Audio(audio_file, autoplay=True)"
   ]
  },
  {
   "cell_type": "code",
   "execution_count": null,
   "id": "2cbeed5d-993e-444a-89b2-9339b68848e3",
   "metadata": {},
   "outputs": [],
   "source": [
    "from datasets import load_dataset\n",
    "from transformers import pipeline\n",
    "\n",
    "asr = pipeline(\"automatic-speech-recognition\", model=\"facebook/wav2vec2-xls-r-300m-21-to-en\", feature_extractor=\"facebook/wav2vec2-xls-r-300m-21-to-en\")"
   ]
  },
  {
   "cell_type": "code",
   "execution_count": null,
   "id": "553d2482-c3ae-4c3b-9452-ae66df70ca18",
   "metadata": {},
   "outputs": [],
   "source": [
    "translation = asr(audio_file)"
   ]
  },
  {
   "cell_type": "code",
   "execution_count": null,
   "id": "eabc82e9-c9b7-4fef-b762-c46779994a6e",
   "metadata": {},
   "outputs": [],
   "source": [
    "MAPPING = {\n",
    "    \"de\": 250003,\n",
    "    \"tr\": 250023,\n",
    "    \"fa\": 250029,\n",
    "    \"sv\": 250042,\n",
    "    \"mn\": 250037,\n",
    "    \"zh\": 250025,\n",
    "    \"cy\": 250007,\n",
    "    \"ca\": 250005,\n",
    "    \"sl\": 250052,\n",
    "    \"et\": 250006,\n",
    "    \"id\": 250032,\n",
    "    \"ar\": 250001,\n",
    "    \"ta\": 250044,\n",
    "    \"lv\": 250017,\n",
    "    \"ja\": 250012,\n",
    "}"
   ]
  },
  {
   "cell_type": "code",
   "execution_count": null,
   "id": "e0a966d8-933a-4251-a5de-049de6a75e89",
   "metadata": {},
   "outputs": [],
   "source": [
    "import torch\n",
    "from transformers import Wav2Vec2Processor, SpeechEncoderDecoderModel\n",
    "from datasets import load_dataset\n",
    "\n",
    "model_ckpt = \"facebook/wav2vec2-xls-r-300m-en-to-15\"\n",
    "\n",
    "model = SpeechEncoderDecoderModel.from_pretrained(model_ckpt)\n",
    "processor = Wav2Vec2Processor.from_pretrained(model_ckpt)\n",
    "\n",
    "ds = load_dataset(\"patrickvonplaten/librispeech_asr_dummy\", \"clean\", split=\"validation\")\n",
    "\n",
    "# select correct `forced_bos_token_id`\n",
    "forced_bos_token_id = MAPPING[\"sv\"]\n",
    "print(forced_bos_token_id)\n",
    "\n",
    "print(\"Done\")"
   ]
  },
  {
   "cell_type": "code",
   "execution_count": null,
   "id": "84d5d5ee-9221-44c0-ade5-4e1ef026c4f1",
   "metadata": {},
   "outputs": [],
   "source": [
    "ds = load_dataset(\"hf-internal-testing/librispeech_asr_dummy\", \"clean\", split=\"validation\")\n",
    "audio_file = ds[0][\"file\"]\n",
    "display.Audio(audio_file, autoplay=True)"
   ]
  },
  {
   "cell_type": "code",
   "execution_count": 31,
   "id": "600ea30b-2fac-4985-b675-34b411671fb1",
   "metadata": {},
   "outputs": [
    {
     "data": {
      "text/plain": [
       "'Mr. Quilter ist der Apostel der Mittelschicht und wir freuen uns, sein Evangelium willkommen heißen zu können.'"
      ]
     },
     "execution_count": 31,
     "metadata": {},
     "output_type": "execute_result"
    }
   ],
   "source": [
    "input_values = processor(ds[0][\"audio\"][\"array\"], sampling_rate=ds[0][\"audio\"][\"sampling_rate\"], return_tensors=\"pt\").input_values\n",
    "\n",
    "# Inference: Translate English speech to German\n",
    "generated = model.generate(input_values)\n",
    "decoded = processor.batch_decode(generated, skip_special_tokens=True)[0]\n",
    "decoded"
   ]
  },
  {
   "cell_type": "code",
   "execution_count": null,
   "id": "1c16de2a-5e6a-4203-a6b1-56d238c9f8bb",
   "metadata": {},
   "outputs": [],
   "source": []
  }
 ],
 "metadata": {
  "kernelspec": {
   "display_name": "Python 3 (ipykernel)",
   "language": "python",
   "name": "python3"
  },
  "language_info": {
   "codemirror_mode": {
    "name": "ipython",
    "version": 3
   },
   "file_extension": ".py",
   "mimetype": "text/x-python",
   "name": "python",
   "nbconvert_exporter": "python",
   "pygments_lexer": "ipython3",
   "version": "3.10.4"
  }
 },
 "nbformat": 4,
 "nbformat_minor": 5
}
